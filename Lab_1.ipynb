{
  "nbformat": 4,
  "nbformat_minor": 0,
  "metadata": {
    "colab": {
      "provenance": []
    },
    "kernelspec": {
      "name": "python3",
      "display_name": "Python 3"
    },
    "language_info": {
      "name": "python"
    }
  },
  "cells": [
    {
      "cell_type": "code",
      "execution_count": 67,
      "metadata": {
        "colab": {
          "base_uri": "https://localhost:8080/",
          "height": 0
        },
        "id": "ZqfqQFyuUaEG",
        "outputId": "4d45723d-2339-4fda-de88-802444532c0e"
      },
      "outputs": [
        {
          "output_type": "stream",
          "name": "stdout",
          "text": [
            "Dear Customer, please type how many day-old Kanelbulle you want 🥮 50\n",
            "                                                   \n",
            "Welcome to fresh Swedish Kanelbulle Cinnamon Bakery\n",
            "====================================================\n",
            "-----Below are Kanelbulle Prices----\n",
            "======================================\n",
            "Regular Price:            1750.00 SEK\n",
            "Discounted Price:         1050.00 SEK\n",
            "                          ============\n",
            "Total Price:              700.00  SEK\n",
            "                          ============\n",
            "        Thank you for coming 😀\n"
          ]
        }
      ],
      "source": [
        "msg=\"Exercise A 0.1: Cinnamon buns with formating output\"\n",
        "def calculate_kanelbulle_cost(quantity):\n",
        "  regular_price_per_bulle = 35  # SEK\n",
        "  discount_percentage = 0.60\n",
        "\n",
        "  regular_price = quantity * regular_price_per_bulle\n",
        "  discount_amount = regular_price * discount_percentage\n",
        "  total_price = regular_price - discount_amount\n",
        "\n",
        "  return regular_price, discount_amount, total_price\n",
        "\n",
        "if __name__ == \"__main__\":\n",
        "  quantity = int(input(\"Dear Customer, please type how many day-old Kanelbulle you want 🥮 \"))\n",
        "\n",
        "  regular_price, discount_amount, total_price = calculate_kanelbulle_cost(quantity)\n",
        "  print(\"                                                   \")\n",
        "  print(\"Welcome to fresh Swedish Kanelbulle Cinnamon Bakery\")\n",
        "  print(\"====================================================\")\n",
        "  print(\"-----Below are Kanelbulle Prices----\")\n",
        "  print(\"======================================\")\n",
        "  print(f\"Regular Price:            {regular_price:.2f} SEK\")\n",
        "  print(f\"Discounted Price:         {discount_amount:.2f} SEK\")\n",
        "  print(\"                          ============\")\n",
        "  print(f\"Total Price:              {total_price:.2f}  SEK\")\n",
        "  print(\"                          ============\")\n",
        "  print(\"        Thank you for coming 😀\")\n",
        ""
      ]
    },
    {
      "cell_type": "code",
      "source": [],
      "metadata": {
        "id": "2WvvAKthyQHp"
      },
      "execution_count": null,
      "outputs": []
    },
    {
      "cell_type": "code",
      "source": [],
      "metadata": {
        "id": "fNawkO3hyQUw"
      },
      "execution_count": null,
      "outputs": []
    },
    {
      "cell_type": "code",
      "source": [
        "msg=\"Exercise A 0.2: Dog years\"\n",
        "def human_to_dog_years(human_years):\n",
        "  if human_years < 0:\n",
        "    return -1  # Invalid input: Negative human years\n",
        "\n",
        "  if human_years <= 2:\n",
        "    return human_years * 10.5\n",
        "  else:\n",
        "    dog_years = 2 * 10.5 + (human_years - 2) * 4\n",
        "    return dog_years\n",
        "\n",
        "if __name__ == \"__main__\":\n",
        "  human_years = int(input(\"Please type your Human 🧔 age in the box: \"))\n",
        "\n",
        "  dog_years = human_to_dog_years(human_years)\n",
        "\n",
        "  if dog_years == -1:\n",
        "    print(\"Error: oh no, Human age cannot be negative.\")\n",
        "  else:\n",
        "    print(\"                                        \")\n",
        "    print(\"===================================================\")\n",
        "    print(\"    Welcome to Human and Dog Age conversion App. \")\n",
        "    print(\"===================================================\")\n",
        "    print(\"                                        \")\n",
        "    print(f\"{human_years} Human 🧔 years is similar to {dog_years:.1f} 🦮 Dog years.\")\n",
        "    print(\"                                        \")\n",
        "    print(\"=== Thank's for using this App,hope to see you again===\")"
      ],
      "metadata": {
        "id": "wgZWsisLqqBz",
        "colab": {
          "base_uri": "https://localhost:8080/",
          "height": 0
        },
        "outputId": "33a61bfd-9eab-4e98-8dba-6731f0c22581"
      },
      "execution_count": 66,
      "outputs": [
        {
          "output_type": "stream",
          "name": "stdout",
          "text": [
            "Please type your Human 🧔 age in the box: 40\n",
            "                                        \n",
            "===================================================\n",
            "    Welcome to Human and Dog Age conversion App. \n",
            "===================================================\n",
            "                                        \n",
            "40 Human 🧔 years is similar to 173.0 🦮 Dog years.\n",
            "                                        \n",
            "=== Thank's for using this App,hope to see you again===\n"
          ]
        }
      ]
    },
    {
      "cell_type": "code",
      "source": [
        "\n",
        "msg=\"Exercise A.0.4. Is it a prime number?\"\n",
        "import math\n",
        "\n",
        "def is_prime(n):\n",
        "\n",
        "  if n <= 1:\n",
        "    return False\n",
        "\n",
        "  # Optimization: Only check for divisors up to the square root of n\n",
        "  for i in range(2, int(math.sqrt(n)) + 1):\n",
        "    if n % i == 0:\n",
        "      return False\n",
        "\n",
        "  return True\n",
        "\n",
        "if __name__ == \"__main__\":\n",
        "  print(\"                        =========================================\")\n",
        "  print(\"                         Welcome to Integer determinator Program\")\n",
        "  print(\"                        =========================================\")\n",
        "  print(\"                                \")\n",
        "  num = int(input(\"Please type an integer of your choice: \"))\n",
        "\n",
        "\n",
        "  if is_prime(num):\n",
        "\n",
        "    print(f\"{num}  ✅  is a  perfect prime number, youa are a genius 🔣.\")\n",
        "  else:\n",
        "\n",
        "    print(f\"{num} ❌ is not a prime number sorry. Please try another integer number.\")\n",
        "    print(\"                                          \")\n",
        "    print(\"            -----  👍 See you around soon ----- \")"
      ],
      "metadata": {
        "colab": {
          "base_uri": "https://localhost:8080/",
          "height": 0
        },
        "id": "Fm5bOu6iWTpg",
        "outputId": "0c15e715-7395-47b3-bf8b-daeb5d84ff54"
      },
      "execution_count": 95,
      "outputs": [
        {
          "output_type": "stream",
          "name": "stdout",
          "text": [
            "                        =========================================\n",
            "                         Welcome to Integer determinator Program\n",
            "                        =========================================\n",
            "                                \n",
            "Please type an integer of your choice: 1\n",
            "1 ❌ is not a prime number sorry. Please try another integer number.\n",
            "                                          \n",
            "            -----  👍 See you around soon ----- \n"
          ]
        }
      ]
    },
    {
      "cell_type": "code",
      "source": [
        " \"========== A.0.6. Shuffle the cards! (function) =========\"\n",
        "import random\n",
        "\n",
        "def createDeck():\n",
        "\n",
        "  suits = ['s', 'h', 'd', 'c']\n",
        "  ranks = ['2', '3', '4', '5', '6', '7', '8', '9', 'T', 'J', 'Q', 'K', 'A']\n",
        "  deck = []\n",
        "  for suit in suits:\n",
        "    for rank in ranks:\n",
        "      deck.append(rank + suit)\n",
        "  return deck\n",
        "\n",
        "def shuffle(deck):\n",
        "  \"\"\" Shuffles the given deck of cards in place.\"\"\"\n",
        "  original_deck = deck.copy()  # Create a copy of the original deck\n",
        "\n",
        "  for i in range(len(deck)):\n",
        "    # Bring up  a random index to swap with\n",
        "    j = random.randint(0, len(deck) - 1)\n",
        "    # Chnage over the elements at indices i and j\n",
        "    deck[i], deck[j] = deck[j], deck[i]\n",
        "\n",
        "  return original_deck, deck\n",
        "\n",
        "if __name__ == \"__main__\":\n",
        "  deck = createDeck()\n",
        "  original_deck, shuffled_deck = shuffle(deck)\n",
        "  print(\"                               ===============================\")\n",
        "  print(\"                               Welcome to card Shuffle App.🎰 \")\n",
        "  print(\"                               ===============================\")\n",
        "  print(\"                                                \")\n",
        "  print(\"                                                \")\n",
        "  print(\"Your Original Deck are :\", original_deck)\n",
        "  print(\"======================\")\n",
        "  print(\"                                                \")\n",
        "  print(\"Now shuffled Deck looks like this:\", shuffled_deck)\n",
        "  print(\"=================================\")\n",
        "  print(\"          \")\n",
        "  print(\"                          ----- Enjoyed it, come shuffle again 🎱 ------\")"
      ],
      "metadata": {
        "colab": {
          "base_uri": "https://localhost:8080/",
          "height": 0
        },
        "id": "kP8fa4rg3Cvj",
        "outputId": "6c6b949d-14a9-4619-ff28-0e24afb57120"
      },
      "execution_count": 130,
      "outputs": [
        {
          "output_type": "stream",
          "name": "stdout",
          "text": [
            "                               ===============================\n",
            "                               Welcome to card Shuffle App.🎰 \n",
            "                               ===============================\n",
            "                                                \n",
            "                                                \n",
            "Your Original Deck are : ['2s', '3s', '4s', '5s', '6s', '7s', '8s', '9s', 'Ts', 'Js', 'Qs', 'Ks', 'As', '2h', '3h', '4h', '5h', '6h', '7h', '8h', '9h', 'Th', 'Jh', 'Qh', 'Kh', 'Ah', '2d', '3d', '4d', '5d', '6d', '7d', '8d', '9d', 'Td', 'Jd', 'Qd', 'Kd', 'Ad', '2c', '3c', '4c', '5c', '6c', '7c', '8c', '9c', 'Tc', 'Jc', 'Qc', 'Kc', 'Ac']\n",
            "======================\n",
            "                                                \n",
            "Now shuffled Deck looks like this: ['8d', '6s', '8s', '8h', 'Jh', 'Th', '7s', 'Kd', '3c', 'Ts', '7c', '4c', '9h', '4d', '5d', '3d', '6h', '5s', 'As', '5c', '2s', '9c', 'Td', '6c', 'Qs', 'Ad', '9s', 'Ks', '6d', '7h', '3s', '4h', '5h', 'Jd', '2c', '8c', 'Js', 'Qh', 'Tc', 'Kh', '2h', 'Ac', 'Qd', 'Qc', '9d', '2d', '4s', 'Ah', '3h', '7d', 'Kc', 'Jc']\n",
            "=================================\n",
            "          \n",
            "                          ----- Enjoyed it, come shuffle again 🎱 ------\n"
          ]
        }
      ]
    },
    {
      "cell_type": "code",
      "source": [],
      "metadata": {
        "id": "NFs9KnEdtmfF"
      },
      "execution_count": null,
      "outputs": []
    },
    {
      "cell_type": "markdown",
      "source": [],
      "metadata": {
        "id": "a7YN9IMstm8L"
      }
    },
    {
      "cell_type": "code",
      "source": [
        "import math\n",
        "\n",
        "def is_prime(n):\n",
        "  \"======== Exercise A.0.5. What is the next prime? (loop)========\"\n",
        "\n",
        "  if n <= 1:\n",
        "    return False\n",
        "\n",
        "  for i in range(2, int(math.sqrt(n)) + 1):\n",
        "    if n % i == 0:\n",
        "      return False\n",
        "\n",
        "  return True\n",
        "\n",
        "def nextPrime(n):\n",
        "\n",
        "  \"\"\" The conditional statement below finds and returns the first prime number larger than n \"\"\"\n",
        "\n",
        "  next_num = n + 1\n",
        "  while not is_prime(next_num):\n",
        "    next_num += 1\n",
        "  return next_num\n",
        "\n",
        "if __name__ == \"__main__\":\n",
        "  print(\"                             ============================\")\n",
        "  print(\"                               Next prime number program\")\n",
        "  print(\"                             ============================\")\n",
        "  print(\"                                                                      \")\n",
        "  num = int(input(\"Dear User, please type an integer in the box \"))\n",
        "  next_prime_num = nextPrime(num)\n",
        "  print(\"                                                            \")\n",
        "  print(f\"Hello user, the next prime number after {num} is: {next_prime_num}\")\n",
        "  print(\"                                        ===    ==\")\n",
        "\n",
        "\n",
        "  print(\"               It was fun, right ?  🧮  \")"
      ],
      "metadata": {
        "colab": {
          "base_uri": "https://localhost:8080/",
          "height": 0
        },
        "id": "XVsAC3i3toXc",
        "outputId": "3642292e-10c0-448c-a87c-70649c7133c5"
      },
      "execution_count": 150,
      "outputs": [
        {
          "output_type": "stream",
          "name": "stdout",
          "text": [
            "                             ============================\n",
            "                               Next prime number program\n",
            "                             ============================\n",
            "                                                                      \n",
            "Dear User, please type an integer in the box 56\n",
            "                                                            \n",
            "Hello user, the next prime number after 56 is: 59\n",
            "                                        ===    ==\n",
            "               It was fun, right ?  🧮  \n"
          ]
        }
      ]
    },
    {
      "cell_type": "code",
      "source": [
        "import random\n",
        "\n",
        "def simulate_coin_flips():\n",
        "\n",
        "    \" ======= Exercise A.0.3: Coin Flip - 3 same flips (loop)  ========== \"\n",
        "    flips = \"\"\n",
        "    count = 0\n",
        "    while True:\n",
        "        count += 1\n",
        "        flip = random.choice([\"H\", \"T\"])\n",
        "        flips += flip\n",
        "        if len(flips) >= 3 and flips[-3:] == \"HHH\":\n",
        "            return flips, count\n",
        "        elif len(flips) >= 3 and flips[-3:] == \"TTT\":\n",
        "            return flips, count\n",
        "\n",
        "if __name__ == \"__main__\":\n",
        "    flips, count = simulate_coin_flips()\n",
        "    print(\"===============================\")\n",
        "    print(\" Welcome to Coin Flip App. 🪙\")\n",
        "    print(\"===============================\")\n",
        "    print(\"                               \")\n",
        "    print(\"                               \")\n",
        "    print(\"All coin Flips Result:\", flips)\n",
        "    print(\"                               \")\n",
        "    print(\"                               \")\n",
        "    print(\"                         =====\")\n",
        "    print(\"Total number of flips is:\", count)\n",
        "    print(\"                         =====\")\n",
        "    print(\"                               \")\n",
        "    print(\" Happy flipping 🃏 \")"
      ],
      "metadata": {
        "colab": {
          "base_uri": "https://localhost:8080/",
          "height": 0
        },
        "id": "P4iCRPzrvZPm",
        "outputId": "52434c98-be76-4318-8d28-3fd113617d65"
      },
      "execution_count": 188,
      "outputs": [
        {
          "output_type": "stream",
          "name": "stdout",
          "text": [
            "===============================\n",
            " Welcome to Coin Flip App. 🪙\n",
            "===============================\n",
            "                               \n",
            "                               \n",
            "All coin Flips Result: THHH\n",
            "                               \n",
            "                               \n",
            "                         =====\n",
            "Total number of flips is: 4\n",
            "                         =====\n",
            "                               \n",
            " Happy flipping 🃏 \n"
          ]
        }
      ]
    },
    {
      "cell_type": "code",
      "source": [
        "msg=\"Exercise A.0.2: Deal cards\"\n",
        "import random\n",
        "\n",
        "def create_deck():\n",
        "\n",
        "  suits = ['s', 'h', 'd', 'c']\n",
        "  ranks = ['2', '3', '4', '5', '6', '7', '8', '9', 'T', 'J', 'Q', 'K', 'A']\n",
        "  deck = [rank + suit for rank in ranks for suit in suits]\n",
        "  return deck\n",
        "\n",
        "def shuffle_deck(deck):\n",
        "  \"\"\" Shuffles the given deck of cards in place. \"\"\"\n",
        "  random.shuffle(deck)\n",
        "\n",
        "def deal(num_hands, cards_per_hand, deck):\n",
        "\n",
        "  \"\"\" Deals cards to a specified number of hands. \"\"\"\n",
        "\n",
        "  hands = [[] for _ in range(num_hands)]  # Create empty lists for each hand\n",
        "  for i in range(cards_per_hand):\n",
        "    for j in range(num_hands):\n",
        "      if deck:  # Check if deck is not empty\n",
        "        hands[j].append(deck.pop(0))  # Deal one card to each hand\n",
        "  return hands\n",
        "\n",
        "if __name__ == \"__main__\":\n",
        "  # Create and shuffle the deck\n",
        "  deck = create_deck()\n",
        "  shuffle_deck(deck)\n",
        "  print(\"          ============================    \")\n",
        "  print(\"           Welcome to  Card deal App\")\n",
        "  print(\"          ============================    \")\n",
        "  # Get user input for number of hands and cards per hand\n",
        "  num_hands = int(input(\"Please type the number of hands: \"))\n",
        "  cards_per_hand = int(input(\"Please the number of cards per hand: \"))\n",
        "  print(\"                                                    \")\n",
        "  print(\"Combination result    \")\n",
        "  print(\"==================    \")\n",
        "  print(\"                                                    \")\n",
        "\n",
        "  # Deal the cards\n",
        "  hands = deal(num_hands, cards_per_hand, deck)\n",
        "\n",
        "  # Print the dealt hands\n",
        "  for i, hand in enumerate(hands):\n",
        "\n",
        "    print(f\"Hand {i+1}: {hand}\")\n",
        "\n",
        "    print(f\"Hand {i+1}: {hand}\")\n",
        "    print(\"======\")\n",
        "    print(\"                        \")\n",
        ""
      ],
      "metadata": {
        "colab": {
          "base_uri": "https://localhost:8080/",
          "height": 0
        },
        "id": "RZ2E1QBUyUqh",
        "outputId": "bd0000ab-3d76-44ca-abca-56a9513ac840"
      },
      "execution_count": 226,
      "outputs": [
        {
          "output_type": "stream",
          "name": "stdout",
          "text": [
            "          ============================    \n",
            "           Welcome to  Card deal App\n",
            "          ============================    \n",
            "Please type the number of hands: 2\n",
            "Please the number of cards per hand: 3\n",
            "                                                    \n",
            "Combination result    \n",
            "==================    \n",
            "                                                    \n",
            "Hand 1: ['9c', 'Js', '8d']\n",
            "Hand 1: ['9c', 'Js', '8d']\n",
            "======\n",
            "                        \n",
            "Hand 2: ['As', 'Qh', '8c']\n",
            "Hand 2: ['As', 'Qh', '8c']\n",
            "======\n",
            "                        \n"
          ]
        }
      ]
    }
  ]
}